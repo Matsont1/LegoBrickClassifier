{
 "cells": [
  {
   "cell_type": "markdown",
   "id": "9c43eef4",
   "metadata": {},
   "source": [
    "# Lego Image Recognition - SVM\n",
    "The goal of this notebook was to see how effective SVM's could be at image recognition, specifically with Lego's.\n",
    "\n",
    "This script can be broken down into 3 main components\n",
    "\n",
    "1. Data Ingestion and Initial Transformation\n",
    "    - Ingest Data using parrallel processes to improve runtime\n",
    "    - Remove bordering 50 pixels\n",
    "2. Dimensionality Reduction\n",
    "    - Reduce data from 9000+ features to 225 features to improve model runtime\n",
    "3. Run Model\n",
    "    - Perform hyperparameter selection and run the model on these \"best\" parameters along with printing scores and displaying confusion matrix\n",
    "    \n",
    "### NOTICE - For drastic reduction in runtime script was run on HPCC"
   ]
  },
  {
   "cell_type": "markdown",
   "id": "2f9f9202",
   "metadata": {},
   "source": [
    "#  Initial Imports"
   ]
  },
  {
   "cell_type": "code",
   "execution_count": 1,
   "id": "81b4d869",
   "metadata": {},
   "outputs": [],
   "source": [
    "import pandas as pd\n",
    "import matplotlib.pyplot as plt\n",
    "import os\n",
    "import numpy as np\n",
    "from skimage.io import imread,imshow\n",
    "import pickle\n",
    "import sys\n",
    "from sklearn.svm import SVC\n",
    "from sklearn.metrics import confusion_matrix\n",
    "from sklearn.metrics import accuracy_score,f1_score\n",
    "from sklearn.model_selection import GridSearchCV\n",
    "from sklearn.preprocessing import LabelEncoder\n",
    "from sklearn.model_selection import train_test_split\n",
    "import concurrent.futures\n",
    "import time\n",
    "from skimage.transform import resize\n",
    "from scipy.sparse import csr_matrix,vstack\n",
    "from tqdm.notebook import tqdm\n",
    "from sklearn.decomposition import PCA"
   ]
  },
  {
   "cell_type": "markdown",
   "id": "3e6c6f37",
   "metadata": {},
   "source": [
    "# Data Ingestion and Initial Transformation"
   ]
  },
  {
   "cell_type": "code",
   "execution_count": 2,
   "id": "10380a08",
   "metadata": {},
   "outputs": [
    {
     "name": "stdout",
     "output_type": "stream",
     "text": [
      "Starting Data Load and Transforms Mon Mar 11 13:51:19 2024\n"
     ]
    },
    {
     "data": {
      "application/vnd.jupyter.widget-view+json": {
       "model_id": "19c90e8a7846455ab915b6c07c157a12",
       "version_major": 2,
       "version_minor": 0
      },
      "text/plain": [
       "  0%|          | 0/40000 [00:00<?, ?it/s]"
      ]
     },
     "metadata": {},
     "output_type": "display_data"
    },
    {
     "name": "stdout",
     "output_type": "stream",
     "text": [
      "Finished Initial Mon Mar 11 13:52:35 2024\n",
      "Completed 10001 images Mon Mar 11 13:52:35 2024\n",
      "Completed 20000 images Mon Mar 11 13:52:35 2024\n",
      "Completed 29999 images Mon Mar 11 13:52:35 2024\n",
      "Completed 39998 images Mon Mar 11 13:52:35 2024\n",
      "Size of Images before Stack 321104\n",
      "Size of labels 321104\n"
     ]
    }
   ],
   "source": [
    "#Data Ingestion\n",
    "images_df = pd.DataFrame()\n",
    "images=[]\n",
    "labels=[]\n",
    "count=0\n",
    "image_names=[]\n",
    "for name in os.listdir(r\"Dataset\"\"):\n",
    "    image_names.append(name)\n",
    "images_df = pd.DataFrame()\n",
    "labels_df = pd.DataFrame()\n",
    "def image_processor(name):\n",
    "    #Given the name of a file, read in that image, take its HOG, and save filename as label\n",
    "    #Returns data (x), and label (y)\n",
    "    #Replace string with path to dataset\n",
    "    file = os.path.join(r\"Dataset\", name)\n",
    "    \n",
    "    #Read in image and get rid of 50 pixels border as most images the outside 50 points were not of significance\n",
    "    data = imread(file,as_gray=True)\n",
    "    data = data[50:-50,50:-50]\n",
    "    data = data.flatten()\n",
    "    #Command commented out, used for optimizing model runtime and overall memory usage\n",
    "    #data = resize(data,(100,100))\n",
    "    \n",
    "\n",
    "    #Makes the filename the label, as dataset has the expected lego block as the filename\n",
    "    label = file[:-8]\n",
    "    label = label.rsplit(\"/\",1)[1]\n",
    "    return (data,label)\n",
    "print(\"Starting Data Load and Transforms\",time.asctime())\n",
    "\n",
    "#Variables used for print statements for loading\n",
    "count=0\n",
    "thresh=10000\n",
    "\n",
    "\n",
    "#Code below calls the image processor function and parallizes the image processing for us across multiple cores\n",
    "#This significantly improces runtime, tqdm is used to create loading bar\n",
    "with concurrent.futures.ProcessPoolExecutor() as executor:\n",
    "    results = list(tqdm(executor.map(image_processor,image_names),total=len(image_names)))\n",
    "print(\"Finished Initial\",time.asctime())\n",
    "\n",
    "\n",
    "#Splits results into images and labels lists\n",
    "for data,file in results:\n",
    "    count+=1\n",
    "    if count>thresh:\n",
    "        print(\"Completed\",count,\"images\",time.asctime())\n",
    "        #break\n",
    "        thresh = thresh +9999\n",
    "    images.append(data)\n",
    "    labels.append([file])    \n",
    "\n",
    "import sys\n",
    "print(\"Size of Images before Stack\",sys.getsizeof(images))\n",
    "print(\"Size of labels\",sys.getsizeof(labels))\n"
   ]
  },
  {
   "cell_type": "code",
   "execution_count": 3,
   "id": "c7fafa19",
   "metadata": {},
   "outputs": [],
   "source": [
    "images_np = np.array(images)"
   ]
  },
  {
   "cell_type": "markdown",
   "id": "23794f77",
   "metadata": {},
   "source": [
    "# Dimensionality Reduction"
   ]
  },
  {
   "cell_type": "code",
   "execution_count": 7,
   "id": "98e4f190",
   "metadata": {},
   "outputs": [
    {
     "name": "stdout",
     "output_type": "stream",
     "text": [
      "Beginning PCA Fit and Transform Mon Mar 11 13:12:28 2024\n",
      "25 0.7457530434540195 Mon Mar 11 13:13:09 2024\n",
      "50 0.8186606241138576 Mon Mar 11 13:13:47 2024\n",
      "75 0.8549105578525154 Mon Mar 11 13:14:33 2024\n",
      "100 0.8759081501277043 Mon Mar 11 13:15:17 2024\n",
      "125 0.8904550473711994 Mon Mar 11 13:16:08 2024\n",
      "150 0.9017163637770695 Mon Mar 11 13:16:52 2024\n",
      "175 0.910527116455179 Mon Mar 11 13:17:40 2024\n",
      "200 0.9176363480760168 Mon Mar 11 13:18:31 2024\n",
      "225 0.9234969010418118 Mon Mar 11 13:19:27 2024\n",
      "250 0.9284843629257198 Mon Mar 11 13:20:43 2024\n",
      "275 0.9328170480925789 Mon Mar 11 13:21:54 2024\n",
      "300 0.9366007488445994 Mon Mar 11 13:23:06 2024\n",
      "325 0.9399392926882032 Mon Mar 11 13:24:28 2024\n",
      "350 0.942916834609574 Mon Mar 11 13:25:47 2024\n",
      "375 0.9455770141159677 Mon Mar 11 13:27:16 2024\n",
      "Finished Mon Mar 11 13:27:16 2024\n"
     ]
    }
   ],
   "source": [
    "#Code below used to run Principal Components Analysis on data in order to reduce runtime and memory complexity\n",
    "#500 was chosen after plugging and playing and seeing resulting runtimes\n",
    "pca_vals = []\n",
    "total_pca = []\n",
    "print(\"Beginning PCA Fit and Transform\",time.asctime())\n",
    "#Used to take sample of data for PCA experiment to reduce runtime and memory requirements by 1/4\n",
    "ind = np.random.choice(images_np.shape[0],size=10000)\n",
    "sample = images_np[ind]\n",
    "for i in range(25,400,25):\n",
    "    pca = PCA(n_components=i)\n",
    "    pca.fit(sample)\n",
    "    total_pca.append(pca.explained_variance_ratio_.sum())\n",
    "    pca_vals.append(i)\n",
    "    print(i,pca.explained_variance_ratio_.sum(),time.asctime())\n",
    "\n",
    "print(\"Finished\",time.asctime())\n"
   ]
  },
  {
   "cell_type": "code",
   "execution_count": 9,
   "id": "e5a2e202",
   "metadata": {},
   "outputs": [
    {
     "data": {
      "text/plain": [
       "Text(0, 0.5, 'Explained Variance Ratio')"
      ]
     },
     "execution_count": 9,
     "metadata": {},
     "output_type": "execute_result"
    },
    {
     "data": {
      "image/png": "[encoded data removed]",
      "text/plain": [
       "<Figure size 432x288 with 1 Axes>"
      ]
     },
     "metadata": {
      "needs_background": "light"
     },
     "output_type": "display_data"
    }
   ],
   "source": [
    "plt.plot(pca_vals,total_pca)\n",
    "plt.title(\"PCA Explained Variance by Features\")\n",
    "plt.xlabel(\"Features\")\n",
    "plt.ylabel(\"Explained Variance Ratio\")"
   ]
  },
  {
   "cell_type": "markdown",
   "id": "4b3f18e2",
   "metadata": {},
   "source": [
    "### Fit Optimal PCA Model to images dataset to reduce features to 225\n",
    "\n",
    "225 was decided on because as seen above the payoff of more features is not worth computational expense"
   ]
  },
  {
   "cell_type": "code",
   "execution_count": 5,
   "id": "ad20b437",
   "metadata": {},
   "outputs": [],
   "source": [
    "pca = PCA(n_components=225)\n",
    "pca.fit(images_np)\n",
    "images_np = pca.transform(images_np)"
   ]
  },
  {
   "cell_type": "code",
   "execution_count": 6,
   "id": "e8fc2c18",
   "metadata": {},
   "outputs": [
    {
     "name": "stdout",
     "output_type": "stream",
     "text": [
      "Size of Images after Stack 72000112\n"
     ]
    }
   ],
   "source": [
    "#Code below transforms images and labels lists into numpy arrays so we can use them in sklearn\n",
    "#We also pickled these arrays so that we don't have to rerun code above and can just grab arrays from path\n",
    "print(\"Size of Images after Stack\",sys.getsizeof(images_np))\n",
    "with open(\"images_np.pkl\",\"wb\") as file:\n",
    "    pickle.dump(images_np,file)\n",
    "labels_np = np.array(labels)\n",
    "labels_np = labels_np.ravel()\n",
    "with open(\"labels_np.pkl\",\"wb\") as file:\n",
    "    pickle.dump(labels_np,file)"
   ]
  },
  {
   "cell_type": "markdown",
   "id": "a59acde1",
   "metadata": {},
   "source": [
    "# NOTICE - only run cell below if need to recover arrays, rather than running data ingestion again, which is time consuming "
   ]
  },
  {
   "cell_type": "code",
   "execution_count": 2,
   "id": "94bab74b",
   "metadata": {},
   "outputs": [
    {
     "name": "stdout",
     "output_type": "stream",
     "text": [
      "Beggining Load Mon Mar 11 17:00:22 2024\n",
      "Finished Load Mon Mar 11 17:00:22 2024\n",
      "Size of Images after Load 112\n"
     ]
    }
   ],
   "source": [
    "#SEE NOTE ABOVE\n",
    "#This cell is only meant to be run to load numpy arrays from local storage rather than running data ingestion component again\n",
    "import pickle\n",
    "import sys\n",
    "print(\"Beggining Load\",time.asctime())\n",
    "with open(\"images_np.pkl\",\"rb\") as file:\n",
    "    images_np=pickle.load(file)\n",
    "\n",
    "with open(\"labels_np.pkl\",\"rb\") as file:\n",
    "    labels_np=pickle.load(file)\n",
    "print(\"Finished Load\",time.asctime())\n",
    "print(\"Size of Images after Load\",sys.getsizeof(images_np))"
   ]
  },
  {
   "cell_type": "code",
   "execution_count": 3,
   "id": "b7747f40",
   "metadata": {},
   "outputs": [
    {
     "name": "stdout",
     "output_type": "stream",
     "text": [
      "225\n",
      "3622 brick 1x3 \n"
     ]
    }
   ],
   "source": [
    "#Shows amount of features, used for debug\n",
    "print(len(images_np[0]))\n",
    "print(labels_np[0])"
   ]
  },
  {
   "cell_type": "code",
   "execution_count": 4,
   "id": "03e14588",
   "metadata": {},
   "outputs": [],
   "source": [
    "#Encodes labels for svm\n",
    "label_enc = LabelEncoder()\n",
    "labels_np_enc = label_enc.fit_transform(labels_np)"
   ]
  },
  {
   "cell_type": "code",
   "execution_count": 16,
   "id": "16e8b5f8",
   "metadata": {},
   "outputs": [
    {
     "name": "stdout",
     "output_type": "stream",
     "text": [
      "31\n",
      "Unique Labels: 50\n"
     ]
    }
   ],
   "source": [
    "print(labels_np_enc[0])\n",
    "print(\"Unique Labels:\",len(np.unique(labels_np_enc)))"
   ]
  },
  {
   "cell_type": "markdown",
   "id": "c35579f4",
   "metadata": {},
   "source": [
    "# Run Model\n",
    "\n",
    "Uses train split of 75% and then runs hyperparameter search of 144 possible fits."
   ]
  },
  {
   "cell_type": "code",
   "execution_count": 6,
   "id": "da236c8d",
   "metadata": {},
   "outputs": [],
   "source": [
    "X_train,X_test,y_train,y_test = train_test_split(images_np,labels_np_enc,train_size=0.75,random_state=0)"
   ]
  },
  {
   "cell_type": "code",
   "execution_count": 7,
   "id": "3449fb0a",
   "metadata": {},
   "outputs": [
    {
     "name": "stdout",
     "output_type": "stream",
     "text": [
      "Beginning GridSearch Mon Mar 11 17:02:46 2024\n",
      "Fitting 4 folds for each of 36 candidates, totalling 144 fits\n",
      "Finished Mon Mar 11 17:32:21 2024\n",
      "{'C': 25, 'gamma': 0.01}\n"
     ]
    }
   ],
   "source": [
    "# Hyperparameter Search using GridsearchCV on preset parameters, displaying best model\n",
    "print(\"Beginning GridSearch\",time.asctime())\n",
    "c_vals = [0.1,1,5,10,25,100]\n",
    "g_vals = [0.01,0.1,0.5,1,10,100]\n",
    "hyper_params = [{\"gamma\":g_vals,'C': c_vals}]\n",
    "lego_svm = GridSearchCV(SVC(kernel='rbf'), hyper_params, cv=4, scoring='accuracy',n_jobs=-1,verbose=30)\n",
    "lego_svm.fit(X_train, y_train)\n",
    "lego_svm.cv_results_\n",
    "print(\"Finished\",time.asctime())\n",
    "print(lego_svm.best_params_)"
   ]
  },
  {
   "cell_type": "markdown",
   "id": "4068ec2b",
   "metadata": {},
   "source": [
    "### Best Model Run and Scoring for Accuracy, Precision, Recall, and F1"
   ]
  },
  {
   "cell_type": "code",
   "execution_count": 12,
   "id": "c577eea0",
   "metadata": {},
   "outputs": [
    {
     "name": "stdout",
     "output_type": "stream",
     "text": [
      "Beggining Best Model Run Mon Mar 11 17:43:09 2024\n",
      "Finished Mon Mar 11 17:45:51 2024\n",
      "Accuracy Score: 0.458\n",
      "Overall Score:  (0.6976858411952075, 0.46200058862768884, 0.4989117509813634, None)\n"
     ]
    }
   ],
   "source": [
    "#Runs the model that performed best from above and displays scores\n",
    "from sklearn.metrics import precision_recall_fscore_support\n",
    "print(\"Beggining Best Model Run\",time.asctime())\n",
    "best_model = SVC(kernel=\"rbf\",gamma=lego_svm.best_params_[\"gamma\"],C=lego_svm.best_params_[\"C\"])\n",
    "best_model.fit(X_train,y_train)\n",
    "print(\"Finished\",time.asctime())\n",
    "results = best_model.predict(X_test)\n",
    "print(\"Accuracy Score:\",accuracy_score(y_test,results))\n",
    "#Support score not used as per initial outline\n",
    "#Default for fscore is 1, meaning f1 score\n",
    "print(\"Overall Score: \",precision_recall_fscore_support(y_test,results,average=\"macro\"))\n"
   ]
  },
  {
   "cell_type": "markdown",
   "id": "a2cc41fc",
   "metadata": {},
   "source": [
    "### Confusion Matrix"
   ]
  },
  {
   "cell_type": "code",
   "execution_count": 13,
   "id": "8d89d2cd",
   "metadata": {},
   "outputs": [
    {
     "data": {
      "text/plain": [
       "Text(0, 0.5, 'Actual')"
      ]
     },
     "execution_count": 13,
     "metadata": {},
     "output_type": "execute_result"
    },
    {
     "data": {
      "image/png": "[encoded data removed]",
      "text/plain": [
       "<Figure size 720x720 with 1 Axes>"
      ]
     },
     "metadata": {
      "needs_background": "light"
     },
     "output_type": "display_data"
    }
   ],
   "source": [
    "plt.figure(figsize=(10,10))\n",
    "plt.imshow(confusion_matrix(y_test,results))\n",
    "plt.title(\"Confusion Matrix\")\n",
    "plt.xlabel(\"Predicted\")\n",
    "plt.ylabel(\"Actual\")"
   ]
  },
  {
   "cell_type": "code",
   "execution_count": null,
   "id": "a90dd170",
   "metadata": {},
   "outputs": [],
   "source": []
  }
 ],
 "metadata": {
  "kernelspec": {
   "display_name": "Python 3 (ipykernel)",
   "language": "python",
   "name": "python3"
  },
  "language_info": {
   "codemirror_mode": {
    "name": "ipython",
    "version": 3
   },
   "file_extension": ".py",
   "mimetype": "text/x-python",
   "name": "python",
   "nbconvert_exporter": "python",
   "pygments_lexer": "ipython3",
   "version": "3.12.4"
  }
 },
 "nbformat": 4,
 "nbformat_minor": 5
}
